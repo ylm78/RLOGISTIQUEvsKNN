{
 "cells": [
  {
   "cell_type": "markdown",
   "id": "12a8ba38-9418-4a80-8ba3-b77e038df038",
   "metadata": {},
   "source": [
    "Import des modules essentiels"
   ]
  },
  {
   "cell_type": "code",
   "execution_count": 21,
   "id": "1973ee85-3995-4ca5-b5ef-2feb8aae09c7",
   "metadata": {},
   "outputs": [],
   "source": [
    "import pandas as pd\n",
    "import numpy as np"
   ]
  },
  {
   "cell_type": "markdown",
   "id": "8cf57d82-ab0d-424c-91fa-31849af413a5",
   "metadata": {},
   "source": [
    "Lecture du fichier csv"
   ]
  },
  {
   "cell_type": "code",
   "execution_count": 22,
   "id": "436aefff-02b5-4556-aa80-c0a71b246caa",
   "metadata": {},
   "outputs": [],
   "source": [
    "df = pd.read_csv(\"heights.csv\")"
   ]
  },
  {
   "cell_type": "markdown",
   "id": "fd47df93-8d4d-4e65-8d46-154ea8d7201d",
   "metadata": {},
   "source": [
    "Drop de la colonne en trop"
   ]
  },
  {
   "cell_type": "code",
   "execution_count": 23,
   "id": "13ce0aa8-0a54-480f-8a0e-2a5ad8d33317",
   "metadata": {},
   "outputs": [
    {
     "data": {
      "text/html": [
       "<div>\n",
       "<style scoped>\n",
       "    .dataframe tbody tr th:only-of-type {\n",
       "        vertical-align: middle;\n",
       "    }\n",
       "\n",
       "    .dataframe tbody tr th {\n",
       "        vertical-align: top;\n",
       "    }\n",
       "\n",
       "    .dataframe thead th {\n",
       "        text-align: right;\n",
       "    }\n",
       "</style>\n",
       "<table border=\"1\" class=\"dataframe\">\n",
       "  <thead>\n",
       "    <tr style=\"text-align: right;\">\n",
       "      <th></th>\n",
       "      <th>sex</th>\n",
       "      <th>height</th>\n",
       "    </tr>\n",
       "  </thead>\n",
       "  <tbody>\n",
       "    <tr>\n",
       "      <th>0</th>\n",
       "      <td>Male</td>\n",
       "      <td>75.000000</td>\n",
       "    </tr>\n",
       "    <tr>\n",
       "      <th>1</th>\n",
       "      <td>Male</td>\n",
       "      <td>70.000000</td>\n",
       "    </tr>\n",
       "    <tr>\n",
       "      <th>2</th>\n",
       "      <td>Male</td>\n",
       "      <td>68.000000</td>\n",
       "    </tr>\n",
       "    <tr>\n",
       "      <th>3</th>\n",
       "      <td>Male</td>\n",
       "      <td>74.000000</td>\n",
       "    </tr>\n",
       "    <tr>\n",
       "      <th>4</th>\n",
       "      <td>Male</td>\n",
       "      <td>61.000000</td>\n",
       "    </tr>\n",
       "    <tr>\n",
       "      <th>...</th>\n",
       "      <td>...</td>\n",
       "      <td>...</td>\n",
       "    </tr>\n",
       "    <tr>\n",
       "      <th>1045</th>\n",
       "      <td>Female</td>\n",
       "      <td>69.000000</td>\n",
       "    </tr>\n",
       "    <tr>\n",
       "      <th>1046</th>\n",
       "      <td>Male</td>\n",
       "      <td>69.000000</td>\n",
       "    </tr>\n",
       "    <tr>\n",
       "      <th>1047</th>\n",
       "      <td>Male</td>\n",
       "      <td>63.385827</td>\n",
       "    </tr>\n",
       "    <tr>\n",
       "      <th>1048</th>\n",
       "      <td>Male</td>\n",
       "      <td>66.000000</td>\n",
       "    </tr>\n",
       "    <tr>\n",
       "      <th>1049</th>\n",
       "      <td>Male</td>\n",
       "      <td>66.000000</td>\n",
       "    </tr>\n",
       "  </tbody>\n",
       "</table>\n",
       "<p>1050 rows × 2 columns</p>\n",
       "</div>"
      ],
      "text/plain": [
       "         sex     height\n",
       "0       Male  75.000000\n",
       "1       Male  70.000000\n",
       "2       Male  68.000000\n",
       "3       Male  74.000000\n",
       "4       Male  61.000000\n",
       "...      ...        ...\n",
       "1045  Female  69.000000\n",
       "1046    Male  69.000000\n",
       "1047    Male  63.385827\n",
       "1048    Male  66.000000\n",
       "1049    Male  66.000000\n",
       "\n",
       "[1050 rows x 2 columns]"
      ]
     },
     "execution_count": 23,
     "metadata": {},
     "output_type": "execute_result"
    }
   ],
   "source": [
    "df.drop(columns=\"Unnamed: 0\")"
   ]
  },
  {
   "cell_type": "markdown",
   "id": "3b5dfa02-d7a5-4598-b799-ca9106b0ae53",
   "metadata": {},
   "source": [
    "Définition de notre cible et nos prédicteurs"
   ]
  },
  {
   "cell_type": "code",
   "execution_count": 24,
   "id": "93796d70-c0c6-4ed7-8665-e12b73ab28d0",
   "metadata": {},
   "outputs": [],
   "source": [
    "y = df[\"sex\"]\n",
    "x = df[\"height\"]\n",
    "#La majorité des algorithmes de prédicitons, attendent au minimum des listes 2D donc on reshape notre x\n",
    "x_reshaped = x.to_numpy().reshape(-1, 1)\n",
    "#Encodage manuel\n",
    "#Lorsque l'on utilise map avec un dictionnaire, il assimile automatiquement les valeurs\n",
    "df[\"sex_encoded\"] = y.map({\"Male\":0, \"Female\":1})\n",
    "y_encoded=df[\"sex_encoded\"]"
   ]
  },
  {
   "cell_type": "markdown",
   "id": "c6d86d36-016b-42e6-a0cd-6e3631cbbc50",
   "metadata": {},
   "source": [
    "Import de l'algo de prédicition et mise en place de la séparation train, test"
   ]
  },
  {
   "cell_type": "code",
   "execution_count": 25,
   "id": "83fc8368-7dc2-4bc6-9f6c-d91842d116fe",
   "metadata": {},
   "outputs": [],
   "source": [
    "from sklearn.linear_model import LogisticRegression\n",
    "from sklearn.model_selection import train_test_split"
   ]
  },
  {
   "cell_type": "code",
   "execution_count": 26,
   "id": "fc9361bb-cd66-430a-944b-f49c0bc15132",
   "metadata": {},
   "outputs": [],
   "source": [
    "X_train, X_test, y_train, y_test = train_test_split(x_reshaped,y_encoded, test_size=0.5, random_state=42)"
   ]
  },
  {
   "cell_type": "code",
   "execution_count": 27,
   "id": "82e5ecd9-1b6e-45ab-85be-998b6e0ef1d8",
   "metadata": {},
   "outputs": [
    {
     "data": {
      "text/html": [
       "<style>#sk-container-id-2 {color: black;background-color: white;}#sk-container-id-2 pre{padding: 0;}#sk-container-id-2 div.sk-toggleable {background-color: white;}#sk-container-id-2 label.sk-toggleable__label {cursor: pointer;display: block;width: 100%;margin-bottom: 0;padding: 0.3em;box-sizing: border-box;text-align: center;}#sk-container-id-2 label.sk-toggleable__label-arrow:before {content: \"▸\";float: left;margin-right: 0.25em;color: #696969;}#sk-container-id-2 label.sk-toggleable__label-arrow:hover:before {color: black;}#sk-container-id-2 div.sk-estimator:hover label.sk-toggleable__label-arrow:before {color: black;}#sk-container-id-2 div.sk-toggleable__content {max-height: 0;max-width: 0;overflow: hidden;text-align: left;background-color: #f0f8ff;}#sk-container-id-2 div.sk-toggleable__content pre {margin: 0.2em;color: black;border-radius: 0.25em;background-color: #f0f8ff;}#sk-container-id-2 input.sk-toggleable__control:checked~div.sk-toggleable__content {max-height: 200px;max-width: 100%;overflow: auto;}#sk-container-id-2 input.sk-toggleable__control:checked~label.sk-toggleable__label-arrow:before {content: \"▾\";}#sk-container-id-2 div.sk-estimator input.sk-toggleable__control:checked~label.sk-toggleable__label {background-color: #d4ebff;}#sk-container-id-2 div.sk-label input.sk-toggleable__control:checked~label.sk-toggleable__label {background-color: #d4ebff;}#sk-container-id-2 input.sk-hidden--visually {border: 0;clip: rect(1px 1px 1px 1px);clip: rect(1px, 1px, 1px, 1px);height: 1px;margin: -1px;overflow: hidden;padding: 0;position: absolute;width: 1px;}#sk-container-id-2 div.sk-estimator {font-family: monospace;background-color: #f0f8ff;border: 1px dotted black;border-radius: 0.25em;box-sizing: border-box;margin-bottom: 0.5em;}#sk-container-id-2 div.sk-estimator:hover {background-color: #d4ebff;}#sk-container-id-2 div.sk-parallel-item::after {content: \"\";width: 100%;border-bottom: 1px solid gray;flex-grow: 1;}#sk-container-id-2 div.sk-label:hover label.sk-toggleable__label {background-color: #d4ebff;}#sk-container-id-2 div.sk-serial::before {content: \"\";position: absolute;border-left: 1px solid gray;box-sizing: border-box;top: 0;bottom: 0;left: 50%;z-index: 0;}#sk-container-id-2 div.sk-serial {display: flex;flex-direction: column;align-items: center;background-color: white;padding-right: 0.2em;padding-left: 0.2em;position: relative;}#sk-container-id-2 div.sk-item {position: relative;z-index: 1;}#sk-container-id-2 div.sk-parallel {display: flex;align-items: stretch;justify-content: center;background-color: white;position: relative;}#sk-container-id-2 div.sk-item::before, #sk-container-id-2 div.sk-parallel-item::before {content: \"\";position: absolute;border-left: 1px solid gray;box-sizing: border-box;top: 0;bottom: 0;left: 50%;z-index: -1;}#sk-container-id-2 div.sk-parallel-item {display: flex;flex-direction: column;z-index: 1;position: relative;background-color: white;}#sk-container-id-2 div.sk-parallel-item:first-child::after {align-self: flex-end;width: 50%;}#sk-container-id-2 div.sk-parallel-item:last-child::after {align-self: flex-start;width: 50%;}#sk-container-id-2 div.sk-parallel-item:only-child::after {width: 0;}#sk-container-id-2 div.sk-dashed-wrapped {border: 1px dashed gray;margin: 0 0.4em 0.5em 0.4em;box-sizing: border-box;padding-bottom: 0.4em;background-color: white;}#sk-container-id-2 div.sk-label label {font-family: monospace;font-weight: bold;display: inline-block;line-height: 1.2em;}#sk-container-id-2 div.sk-label-container {text-align: center;}#sk-container-id-2 div.sk-container {/* jupyter's `normalize.less` sets `[hidden] { display: none; }` but bootstrap.min.css set `[hidden] { display: none !important; }` so we also need the `!important` here to be able to override the default hidden behavior on the sphinx rendered scikit-learn.org. See: https://github.com/scikit-learn/scikit-learn/issues/21755 */display: inline-block !important;position: relative;}#sk-container-id-2 div.sk-text-repr-fallback {display: none;}</style><div id=\"sk-container-id-2\" class=\"sk-top-container\"><div class=\"sk-text-repr-fallback\"><pre>LogisticRegression()</pre><b>In a Jupyter environment, please rerun this cell to show the HTML representation or trust the notebook. <br />On GitHub, the HTML representation is unable to render, please try loading this page with nbviewer.org.</b></div><div class=\"sk-container\" hidden><div class=\"sk-item\"><div class=\"sk-estimator sk-toggleable\"><input class=\"sk-toggleable__control sk-hidden--visually\" id=\"sk-estimator-id-2\" type=\"checkbox\" checked><label for=\"sk-estimator-id-2\" class=\"sk-toggleable__label sk-toggleable__label-arrow\">LogisticRegression</label><div class=\"sk-toggleable__content\"><pre>LogisticRegression()</pre></div></div></div></div></div>"
      ],
      "text/plain": [
       "LogisticRegression()"
      ]
     },
     "execution_count": 27,
     "metadata": {},
     "output_type": "execute_result"
    }
   ],
   "source": [
    "#Définiton de notre model\n",
    "model = LogisticRegression()\n",
    "#On entraine notre modèle avec les données d'entrainement (TOUJOURS)\n",
    "model.fit(X_train, y_train)"
   ]
  },
  {
   "cell_type": "markdown",
   "id": "cb804fab-fe75-46f2-8179-656491c415f3",
   "metadata": {},
   "source": [
    "Passons à l'évaluation de notre modèle"
   ]
  },
  {
   "cell_type": "markdown",
   "id": "8424ef81-2910-4038-8327-bdf223467475",
   "metadata": {},
   "source": [
    "Commencons par la matrice de confusion"
   ]
  },
  {
   "cell_type": "code",
   "execution_count": 28,
   "id": "25bce509-61d1-4d40-af72-d84b2ce5f94d",
   "metadata": {},
   "outputs": [
    {
     "name": "stdout",
     "output_type": "stream",
     "text": [
      "[[385  19]\n",
      " [ 85  36]]\n"
     ]
    }
   ],
   "source": [
    "from sklearn.metrics import confusion_matrix\n",
    "# Supposons que y_test sont les vraies étiquettes et que model est votre modèle entraîné\n",
    "y_pred = model.predict(X_test)  # Obtenez les prédictions pour l'ensemble de test\n",
    "\n",
    "# Calculer le tableau de confusion\n",
    "conf_matrix = confusion_matrix(y_test, y_pred)\n",
    "print(conf_matrix)\n",
    "#Attention, avec sklearn, la matrice de confusion est disposé comme suit : [[Vrai Négatif (VN), Faux Positif (FP)]\n",
    "                                                                            #[Faux Négatif (FN), Vrai Positif (VP)]]"
   ]
  },
  {
   "cell_type": "markdown",
   "id": "9623c300-9e9c-41cf-8c4d-558064939fd0",
   "metadata": {},
   "source": [
    "Un rapport complet pour chaque classe, précision, accuracy, recall, f1-score vous êtes servie"
   ]
  },
  {
   "cell_type": "code",
   "execution_count": 29,
   "id": "ada1249d-2152-4b89-9ae7-5cc0c32ae589",
   "metadata": {},
   "outputs": [
    {
     "name": "stdout",
     "output_type": "stream",
     "text": [
      "              precision    recall  f1-score   support\n",
      "\n",
      "     Class 0       0.82      0.95      0.88       404\n",
      "     Class 1       0.65      0.30      0.41       121\n",
      "\n",
      "    accuracy                           0.80       525\n",
      "   macro avg       0.74      0.63      0.65       525\n",
      "weighted avg       0.78      0.80      0.77       525\n",
      "\n"
     ]
    }
   ],
   "source": [
    "from sklearn.metrics import classification_report\n",
    "report = classification_report(y_test, y_pred, target_names=['Class 0', 'Class 1'])\n",
    "print(report)\n"
   ]
  },
  {
   "cell_type": "markdown",
   "id": "89d77c4d-6462-46c6-a1c9-54a192355079",
   "metadata": {},
   "source": [
    "Un autre indicateur essentiel, la courbe ROC"
   ]
  },
  {
   "cell_type": "code",
   "execution_count": 30,
   "id": "253aa4fd-4e41-4681-a01f-39be53177a8a",
   "metadata": {},
   "outputs": [],
   "source": [
    "from sklearn.metrics import roc_curve, auc"
   ]
  },
  {
   "cell_type": "code",
   "execution_count": 31,
   "id": "9aef6446-3dfc-4780-a9b6-0f9a28c36a82",
   "metadata": {},
   "outputs": [],
   "source": [
    "# Obtenir les probabilités pour la classe positive\n",
    "y_scores = model.predict_proba(X_test)[:, 1]\n",
    "fpr, tpr, thresholds = roc_curve(y_test, y_scores)\n",
    "roc_auc = auc(fpr, tpr)"
   ]
  },
  {
   "cell_type": "markdown",
   "id": "4edd93a3-8496-4372-a28f-5defc6ccb2df",
   "metadata": {},
   "source": [
    "Plot avec matplotlib"
   ]
  },
  {
   "cell_type": "code",
   "execution_count": 32,
   "id": "3c86526a-30fe-442e-aa4d-abe24cec1bf7",
   "metadata": {},
   "outputs": [
    {
     "data": {
      "image/png": "[encoded data removed]",
      "text/plain": [
       "<Figure size 800x600 with 1 Axes>"
      ]
     },
     "metadata": {},
     "output_type": "display_data"
    }
   ],
   "source": [
    "import matplotlib.pyplot as plt\n",
    "plt.figure(figsize=(8, 6))\n",
    "plt.plot(fpr, tpr, color='darkorange', lw=2, label='ROC curve (area = %0.2f)' % roc_auc)\n",
    "plt.plot([0, 1], [0, 1], color='navy', lw=2, linestyle='--')\n",
    "plt.xlim([0.0, 1.0])\n",
    "plt.ylim([0.0, 1.05])\n",
    "plt.xlabel('False Positive Rate')\n",
    "plt.ylabel('True Positive Rate')\n",
    "plt.title('Receiver Operating Characteristic')\n",
    "plt.legend(loc=\"lower right\")\n",
    "plt.show()\n"
   ]
  }
 ],
 "metadata": {
  "kernelspec": {
   "display_name": "Python 3 (ipykernel)",
   "language": "python",
   "name": "python3"
  },
  "language_info": {
   "codemirror_mode": {
    "name": "ipython",
    "version": 3
   },
   "file_extension": ".py",
   "mimetype": "text/x-python",
   "name": "python",
   "nbconvert_exporter": "python",
   "pygments_lexer": "ipython3",
   "version": "3.11.5"
  }
 },
 "nbformat": 4,
 "nbformat_minor": 5
}
